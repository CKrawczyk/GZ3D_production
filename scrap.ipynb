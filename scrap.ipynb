{
 "cells": [
  {
   "cell_type": "code",
   "execution_count": 8,
   "id": "2d730e58-d9b6-46bd-a4be-8bc141f9a4f2",
   "metadata": {},
   "outputs": [],
   "source": [
    "import glob\n",
    "import os\n",
    "\n",
    "from astropy.io import fits\n",
    "from astropy.table import Table, vstack, hstack\n",
    "from subprocess import call\n",
    "from tqdm import tqdm\n",
    "import matplotlib.pyplot as plt"
   ]
  },
  {
   "cell_type": "code",
   "execution_count": 2,
   "id": "338afd7a-4345-46ef-9c27-79bead6ae33f",
   "metadata": {},
   "outputs": [],
   "source": [
    "input_folder = '/Volumes/Work/GZ3D/Data_run_final_fits_no_user'\n",
    "fits_list = glob.glob(input_folder + '/*fits.gz')"
   ]
  },
  {
   "cell_type": "code",
   "execution_count": 10,
   "id": "16e32a77-ef67-4fd1-9f88-32e850616ae5",
   "metadata": {},
   "outputs": [],
   "source": [
    "f = fits_list[1]"
   ]
  },
  {
   "cell_type": "code",
   "execution_count": 11,
   "id": "b56e387b-5210-40ab-bd76-630c64f26691",
   "metadata": {},
   "outputs": [
    {
     "data": {
      "text/plain": [
       "<matplotlib.image.AxesImage at 0x7fe0202dee90>"
      ]
     },
     "execution_count": 11,
     "metadata": {},
     "output_type": "execute_result"
    },
    {
     "data": {
      "image/png": "[encoded data removed]",
      "text/plain": [
       "<Figure size 432x288 with 1 Axes>"
      ]
     },
     "metadata": {
      "needs_background": "light"
     },
     "output_type": "display_data"
    }
   ],
   "source": [
    "hdu_list = fits.open(f)\n",
    "plt.imshow(hdu_list[3].data)"
   ]
  },
  {
   "cell_type": "code",
   "execution_count": 13,
   "id": "ef49d864-6a2e-424e-bac2-06098dbb15d0",
   "metadata": {},
   "outputs": [
    {
     "data": {
      "text/plain": [
       "5.0"
      ]
     },
     "execution_count": 13,
     "metadata": {},
     "output_type": "execute_result"
    }
   ],
   "source": [
    "hdu_list[3].data.max()"
   ]
  },
  {
   "cell_type": "code",
   "execution_count": 14,
   "id": "17016a81-9877-4874-9dce-4de3f3a8fc3c",
   "metadata": {},
   "outputs": [
    {
     "data": {
      "text/plain": [
       "13.0"
      ]
     },
     "execution_count": 14,
     "metadata": {},
     "output_type": "execute_result"
    }
   ],
   "source": [
    "hdu_list[4].data.max()"
   ]
  },
  {
   "cell_type": "code",
   "execution_count": 16,
   "id": "7ce61625-0d73-4472-84b7-9fc0d5537c0c",
   "metadata": {},
   "outputs": [],
   "source": [
    "row = Table({\n",
    "        'file_name': [f],\n",
    "        'zooniverse_subject_id': ['1'],\n",
    "        'spiral_mask_max_count': [hdu_list[3].data.max()],\n",
    "        'bar_mask_max_count': [hdu_list[4].data.max()]\n",
    "    })"
   ]
  },
  {
   "cell_type": "code",
   "execution_count": 18,
   "id": "553c2f9b-b387-46d5-b707-0bc9d9b8dd08",
   "metadata": {},
   "outputs": [
    {
     "data": {
      "text/html": [
       "<div>\n",
       "<style scoped>\n",
       "    .dataframe tbody tr th:only-of-type {\n",
       "        vertical-align: middle;\n",
       "    }\n",
       "\n",
       "    .dataframe tbody tr th {\n",
       "        vertical-align: top;\n",
       "    }\n",
       "\n",
       "    .dataframe thead th {\n",
       "        text-align: right;\n",
       "    }\n",
       "</style>\n",
       "<table border=\"1\" class=\"dataframe\">\n",
       "  <thead>\n",
       "    <tr style=\"text-align: right;\">\n",
       "      <th></th>\n",
       "      <th>file_name</th>\n",
       "      <th>zooniverse_subject_id</th>\n",
       "      <th>spiral_mask_max_count</th>\n",
       "      <th>bar_mask_max_count</th>\n",
       "    </tr>\n",
       "  </thead>\n",
       "  <tbody>\n",
       "    <tr>\n",
       "      <th>0</th>\n",
       "      <td>/Volumes/Work/GZ3D/Data_run_final_fits_no_user...</td>\n",
       "      <td>1</td>\n",
       "      <td>5.0</td>\n",
       "      <td>13.0</td>\n",
       "    </tr>\n",
       "  </tbody>\n",
       "</table>\n",
       "</div>"
      ],
      "text/plain": [
       "                                           file_name zooniverse_subject_id  \\\n",
       "0  /Volumes/Work/GZ3D/Data_run_final_fits_no_user...                     1   \n",
       "\n",
       "   spiral_mask_max_count  bar_mask_max_count  \n",
       "0                    5.0                13.0  "
      ]
     },
     "execution_count": 18,
     "metadata": {},
     "output_type": "execute_result"
    }
   ],
   "source": [
    "row.to_pandas()"
   ]
  },
  {
   "cell_type": "code",
   "execution_count": null,
   "id": "cd895136-2294-4bec-9c8d-91092cbcf0f3",
   "metadata": {},
   "outputs": [],
   "source": []
  }
 ],
 "metadata": {
  "kernelspec": {
   "display_name": "Python 3",
   "language": "python",
   "name": "python3"
  },
  "language_info": {
   "codemirror_mode": {
    "name": "ipython",
    "version": 3
   },
   "file_extension": ".py",
   "mimetype": "text/x-python",
   "name": "python",
   "nbconvert_exporter": "python",
   "pygments_lexer": "ipython3",
   "version": "3.7.6"
  }
 },
 "nbformat": 4,
 "nbformat_minor": 5
}
